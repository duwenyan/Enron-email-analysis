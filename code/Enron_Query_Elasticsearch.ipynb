{
 "cells": [
  {
   "cell_type": "code",
   "execution_count": 5,
   "metadata": {
    "colab": {
     "base_uri": "https://localhost:8080/",
     "height": 34
    },
    "id": "wDCRVtiXGS3k",
    "outputId": "08f9ea61-8a38-4c16-c8d1-52e80691fa1c"
   },
   "outputs": [
    {
     "data": {
      "text/plain": [
       "b'yellow open enron RK6efVAlS9q_hKydGnRNdQ 1 1 251734 0 539.8mb 539.8mb\\n'"
      ]
     },
     "execution_count": 5,
     "metadata": {},
     "output_type": "execute_result"
    }
   ],
   "source": [
    "import requests\n",
    "import pandas\n",
    "from dateutil import parser\n",
    "host = 'http://18.188.56.207:9200/'\n",
    "requests.get(host + '_cat/indices/enron').content"
   ]
  },
  {
   "cell_type": "code",
   "execution_count": 6,
   "metadata": {
    "colab": {
     "base_uri": "https://localhost:8080/",
     "height": 34
    },
    "id": "usPZo8sRGS3q",
    "outputId": "2ab70edb-622e-471e-bfda-6c315670b1bc"
   },
   "outputs": [
    {
     "name": "stdout",
     "output_type": "stream",
     "text": [
      "10\n"
     ]
    }
   ],
   "source": [
    "doc = {\n",
    "    \"query\" : {\n",
    "        \"match_all\" : {}\n",
    "    }\n",
    "}\n",
    "import json\n",
    "r=requests.get(host + 'enron/_search', data=json.dumps(doc), headers={'Content-Type':'application/json'})\n",
    "print(len(r.json()['hits']['hits']))"
   ]
  },
  {
   "cell_type": "code",
   "execution_count": 7,
   "metadata": {
    "id": "L-lcMiQfGS3v"
   },
   "outputs": [],
   "source": [
    "def elasticsearch_results_to_df(results):\n",
    "    '''\n",
    "    A function that will take the results of a requests.get \n",
    "    call to Elasticsearch and return a pandas.DataFrame object \n",
    "    with the results \n",
    "    '''\n",
    "    hits = results.json()['hits']['hits']\n",
    "    data = pandas.DataFrame([i['_source'] for i in hits], index = [i['_id'] for i in hits])\n",
    "    data['date'] = data['date'].apply(parser.parse)\n",
    "    return(data)\n",
    "\n",
    "def print_df_row(row):\n",
    "    '''\n",
    "    A function that will take a row of the data frame and print it out\n",
    "    '''\n",
    "    print('____________________')\n",
    "    print('RE: %s' % row.get('subject',''))\n",
    "    print('At: %s' % row.get('date',''))\n",
    "    print('From: %s' % row.get('sender',''))\n",
    "    print('To: %s' % row.get('recipients',''))\n",
    "    print('CC: %s' % row.get('cc',''))\n",
    "    print('BCC: %s' % row.get('bcc',''))\n",
    "    print('Body:\\n%s' % row.get('text',''))\n",
    "    print('____________________')\n"
   ]
  },
  {
   "cell_type": "code",
   "execution_count": 8,
   "metadata": {
    "colab": {
     "base_uri": "https://localhost:8080/",
     "height": 462
    },
    "id": "q7k93M9nGS30",
    "outputId": "bc973c2c-be3b-48f8-a919-b194e5acb9a7"
   },
   "outputs": [
    {
     "name": "stdout",
     "output_type": "stream",
     "text": [
      "                         date  \\\n",
      "269 2001-05-08 11:47:00+00:00   \n",
      "270 2000-06-28 18:39:00+00:00   \n",
      "271 2002-02-02 04:04:41+00:00   \n",
      "272 2000-07-24 12:25:00+00:00   \n",
      "273 2002-02-21 21:21:56+00:00   \n",
      "274 2000-02-11 08:45:00+00:00   \n",
      "275 2001-10-16 01:01:21+00:00   \n",
      "276 2001-05-17 16:54:00+00:00   \n",
      "277 2001-03-15 09:18:00+00:00   \n",
      "278 2002-01-15 15:49:14+00:00   \n",
      "\n",
      "                                                  text  \\\n",
      "269  Attached is a letter Marathon drafted to send ...   \n",
      "270  It is amazing and yet not surprising how much ...   \n",
      "271  Aloha ,\\n\\nYou're receiving this newsletter as...   \n",
      "272  ---------------------- Forwarded by Daren J Fa...   \n",
      "273         Attachment\\n\\n\\nThanks\\nRandy Peschka\\n\\n    \n",
      "274  ---------------------- Forwarded by Tana Jones...   \n",
      "275  800-437-9209\\n3787-465-808-01001\\n\\n__________...   \n",
      "276  I think I will be out of town---can you attend...   \n",
      "277  Ditto Credit.\\n\\nThanks,\\n\\nShari \\n\\n\\n\\n\\tTa...   \n",
      "278  Lucy, Scott Neal and I ( we run the East Gas b...   \n",
      "\n",
      "                                 sender  \\\n",
      "269               karen.denne@enron.com   \n",
      "270           office.chairman@enron.com   \n",
      "271                 rob@alohablooms.com   \n",
      "272              daren.farmer@enron.com   \n",
      "273  team.bushton-maintenance@enron.com   \n",
      "274                tana.jones@enron.com   \n",
      "275               vickistorey@yahoo.com   \n",
      "276           richard.sanders@enron.com   \n",
      "277               shari.stack@enron.com   \n",
      "278             frank.vickers@enron.com   \n",
      "\n",
      "                                            recipients  \\\n",
      "269  janel.guerrero@enron.com  jeff.dasovich@enron....   \n",
      "270                             esop.america@enron.com   \n",
      "271                                    ebass@enron.com   \n",
      "272                             robert.lloyd@enron.com   \n",
      "273  team.bushton-operations@enron.com  jerry.grave...   \n",
      "274  alan.aronowitz@enron.com  jeffrey.hodge@enron....   \n",
      "275                                  gstorey@enron.com   \n",
      "276                          christi.nicolay@enron.com   \n",
      "277                               tana.jones@enron.com   \n",
      "278                            lucy.marshall@enron.com   \n",
      "\n",
      "                                       subject  \\\n",
      "269                                 CEO Letter   \n",
      "270   EnronOptions - Your Stock Option Program   \n",
      "271  Holiday Specials from Hawaiitropicals.com   \n",
      "272                          MeOH Plant Status   \n",
      "273                     Bushton Unit 31 Outage   \n",
      "274                  EOL Credit Responses 2/10   \n",
      "275                                              \n",
      "276                    Re: FERC attorney visit   \n",
      "277                Re: EOL approvals, 03-14-01   \n",
      "278                                              \n",
      "\n",
      "                                                    cc  \\\n",
      "269                                                NaN   \n",
      "270                                                NaN   \n",
      "271                                                NaN   \n",
      "272                                                NaN   \n",
      "273  team.bushton-maintenance@enron.com  mike.pesch...   \n",
      "274                                                NaN   \n",
      "275                                                NaN   \n",
      "276  andrew.edison@enron.com  elizabeth.sager@enron...   \n",
      "277   rhonda.denton@enron.com  leslie.hansen@enron.com   \n",
      "278                               scott.neal@enron.com   \n",
      "\n",
      "                                                   bcc  \n",
      "269                                                NaN  \n",
      "270                                                NaN  \n",
      "271                                                NaN  \n",
      "272                                                NaN  \n",
      "273  team.bushton-maintenance@enron.com  mike.pesch...  \n",
      "274                                                NaN  \n",
      "275                                                NaN  \n",
      "276  andrew.edison@enron.com  elizabeth.sager@enron...  \n",
      "277   rhonda.denton@enron.com  leslie.hansen@enron.com  \n",
      "278                               scott.neal@enron.com  \n",
      "____________________\n",
      "RE: CEO Letter\n",
      "At: 2001-05-08 11:47:00+00:00\n",
      "From: karen.denne@enron.com\n",
      "To: janel.guerrero@enron.com  jeff.dasovich@enron.com  paul.kaufman@enron.com  james.steffes@enron.com  richard.shapiro@enron.com  sandra.mccubbin@enron.com  susan.mara@enron.com\n",
      "CC: nan\n",
      "BCC: nan\n",
      "Body:\n",
      "Attached is a letter Marathon drafted to send to the top 100+ CA businesses \n",
      "in our database giving them info on our \"comprehensive solution.\"  Rather \n",
      "than attach the solution document as is, I'd recommend a shorter, simplified \n",
      "version, plus an overview page that answers \"What does this do for: \n",
      "customers?  the state?  utilities?  marketers/generators?\"  \n",
      "\n",
      "Also, what is it we want these business leaders to do?  Do we want them to \n",
      "write/call/weigh-in w/ their legislators and the governor?  Do we want them \n",
      "to be signatories on a formal proposal?\n",
      "\n",
      "Please let me know what you think. \n",
      "\n",
      "Thanks.\n",
      "kd\n",
      "---------------------- Forwarded by Karen Denne/Corp/Enron on 05/08/2001 \n",
      "11:41 AM ---------------------------\n",
      "\n",
      "\n",
      "Sandra Yamane <SYamane@marathon-com.com> on 05/07/2001 04:53:24 PM\n",
      "To: \"'karen.denne@enron.com'\" <karen.denne@enron.com>\n",
      "cc:  \n",
      "\n",
      "Subject: CEO Letter\n",
      "\n",
      "\n",
      "Hi Karen:\n",
      "\n",
      "It was good to see you Friday.  I hope you had a nice visit in So. Cal.\n",
      "\n",
      "I've attached a draft letter to existing list of CEO's from Ken Lay for your\n",
      "review.  The attached draft letter assumes that the background material from\n",
      "Jeff will be enclosed and that the sample letter to Gov. Davis, et. al. asks\n",
      "for support of specific legislation, policies.\n",
      "\n",
      "If we've got this wrong, let us know and we will try again.\n",
      "\n",
      "Sandra\n",
      " <<CEO Letter May 7 2001.doc>>\n",
      "\n",
      " - CEO Letter May 7 2001.doc\n",
      "\n",
      "____________________\n"
     ]
    }
   ],
   "source": [
    "# Put elasticsearch results into a pandas.DataFrame object\n",
    "df = elasticsearch_results_to_df(r)\n",
    "print(df)\n",
    "print_df_row(df.iloc[0])"
   ]
  },
  {
   "cell_type": "code",
   "execution_count": 9,
   "metadata": {
    "colab": {
     "base_uri": "https://localhost:8080/",
     "height": 717
    },
    "id": "2teqoyC2GS34",
    "outputId": "3205a4cb-cb8b-4af3-dc6c-23ff142e8461"
   },
   "outputs": [
    {
     "name": "stdout",
     "output_type": "stream",
     "text": [
      "Found {'value': 10000, 'relation': 'gte'} messages matching the query, of \n",
      "Returned 10000 messages\n",
      "____________________\n",
      "RE: RE: Reporting replication issue is now fixed\n",
      "At: 2001-10-09 17:11:18+00:00\n",
      "From: lynn.blair@enron.com\n",
      "To: jennifer.lowry@enron.com  group.dl-ets@enron.com\n",
      "CC: nan\n",
      "BCC: nan\n",
      "Body:\n",
      "\tJennifer, how long has this been a problem?  Is there a concern we have caused\n",
      "\tcustomers problems in nominating due to bad information?  Thanks. Lynn\n",
      "\n",
      " -----Original Message-----\n",
      "From: \tLowry, Jennifer   \n",
      "Sent:\tTuesday, October 09, 2001 10:11 AM\n",
      "To:\tDL-ETS TMS Modification Group\n",
      "Subject:\tReporting replication issue is now fixed\n",
      "\n",
      "\n",
      "Yesterday we noticed a problem where reports were not reporting on the correct cycle, or were not picking up information between cycles.  As it turns out, an important table was not being replicated from the application database to the reporting database.  \n",
      "\n",
      "I was told that this problem has been fixed, and on first inspection of the tables, everything looks correct.\n",
      "____________________\n"
     ]
    }
   ],
   "source": [
    "# Query For a full text match in the \"text\" field\n",
    "# Uses the \"match\" query: https://www.elastic.co/guide/en/elasticsearch/reference/current/query-dsl-match-query.html\n",
    "doc = {\n",
    "    \"query\": {\n",
    "        \"match\" : {\n",
    "            \"text\" : \"important reporting\"\n",
    "        } \n",
    "    },\n",
    "    \"from\" : 0, # Starting message to return. \n",
    "    \"size\" : 10000, # Return this many messages. Can't be more than 10,000\n",
    "}\n",
    "r=requests.get(host + 'enron/_search',\n",
    "               data=json.dumps(doc), headers={'Content-Type':'application/json'})\n",
    "r.raise_for_status()\n",
    "print(\"Found %s messages matching the query, of \" % r.json()['hits']['total'])\n",
    "df = elasticsearch_results_to_df(r)\n",
    "print(\"Returned %s messages\" % df.shape[0])\n",
    "print_df_row(df.iloc[0])"
   ]
  },
  {
   "cell_type": "code",
   "execution_count": 12,
   "metadata": {},
   "outputs": [
    {
     "data": {
      "text/plain": [
       "21857     Adjusted purchase price s/b $209,159,347.\\nBui...\n",
       "87085     Ike, it is unfortunate we could not make this ...\n",
       "150367    Richard and Bill:\\n\\nDamage figures with preju...\n",
       "205273    ----- Forwarded by Richard B Sanders/HOU/ECT o...\n",
       "213212    \\n----- Forwarded by Richard B Sanders/HOU/ECT...\n",
       "Name: text, dtype: object"
      ]
     },
     "execution_count": 12,
     "metadata": {},
     "output_type": "execute_result"
    }
   ],
   "source": [
    "df.head().text"
   ]
  },
  {
   "cell_type": "code",
   "execution_count": 10,
   "metadata": {
    "colab": {
     "base_uri": "https://localhost:8080/",
     "height": 921
    },
    "id": "UbzY2Pg5GS38",
    "outputId": "39f176a4-2e5a-4bfc-ae5c-bce8a7d222e3"
   },
   "outputs": [
    {
     "name": "stdout",
     "output_type": "stream",
     "text": [
      "Found {'value': 4102, 'relation': 'eq'} messages matching the query, of \n",
      "Returned 10 messages\n",
      "____________________\n",
      "RE: Status of final statements and replacement invoices\n",
      "At: 2001-10-24 01:34:50+00:00\n",
      "From: thailu@ercot.com\n",
      "To: jackson.amie@enron.com  pratka.amy@enron.com  mitrey.andy@enron.com  williams.angela@enron.com  garza.beth@enron.com  palmer.bill@enron.com  cooper.bob@enron.com  edwards.brady@enron.com  green.brenda@enron.com  smith.carl@enron.com  smith.carl@enron.com  carey.dan@enron.com  sarti.dan@enron.com  leger.dana@enron.com  wessels.david@enron.com  pawlik.debbie@enron.com  bailey.debra@enron.com  dyc.dennis@enron.com  slover.eric@enron.com  nitschmann.frances@enron.com  herndon.gary@enron.com  geissler.ginger@enron.com  striedel.james@enron.com  holland.janet@enron.com  jeffrey.miller@enron.com  doyas.jenny@enron.com  burt.jerry@enron.com  barker.joe@enron.com  favalora.joe@enron.com  forney.john@enron.com  fitzmaurice.kathy@enron.com  minear.kelly@enron.com  koliba.kim@enron.com  star.lee@enron.com  master.linda@enron.com  jones.lisa@enron.com  ramirez.liz@enron.com  kinner.lora@enron.com  rubenstein.marc@enron.com  colby.maria@enron.com  gardner.maria@enron.com  deane.marianne@enron.com  nealy.marice@enron.com  wright.mark@enron.com  murphy.martha@enron.com  bulk.max@enron.com  michael.jacobson@enron.com  coyle.mike@enron.com  tejada.mike@enron.com  vogelei.pat@enron.com  krebs.paul@enron.com  paul.radous@enron.com  pavluk.peter@enron.com  robinson.phillip@enron.com  ganesh.ramesh@enron.com  hager.rhonda@enron.com  rucker.rick@enron.com  vick.rick@enron.com  williamson.rick@enron.com  day.rosalie@enron.com  davis.sam@enron.com  eubank.sandra@enron.com  wagner.shannon@enron.com  mcknight.shonda@enron.com  francois.sonya@enron.com  schamel.stacy@enron.com  mullen.stephanie@enron.com  potters.susan@enron.com  nikazm.tamila@enron.com  ho.thomas@enron.com  a..allen@enron.com  white.tom@enron.com  martin.troy@enron.com  petrov.valentin@enron.com  kuhn.walt@enron.com\n",
      "CC: clientreps@ercot.com  settlebilling@ercot.com  clientreps@ercot.com  grendel@enron.com  --migrated--sgrendel@ercot.com  bojorquez@enron.com  bbojorquez@ercot.com  noel@enron.com  tnoel@ercot.com  jones@enron.com  sjones@ercot.com  tindall@enron.com  htindall@ercot.com  scsleads@ercot.com  buckles@enron.com  mbuckles@ercot.com  saathoff@enron.com  ksaathoff@ercot.com\n",
      "BCC: clientreps@ercot.com  settlebilling@ercot.com  clientreps@ercot.com  grendel@enron.com  --migrated--sgrendel@ercot.com  bojorquez@enron.com  bbojorquez@ercot.com  noel@enron.com  tnoel@ercot.com  jones@enron.com  sjones@ercot.com  tindall@enron.com  htindall@ercot.com  scsleads@ercot.com  buckles@enron.com  mbuckles@ercot.com  saathoff@enron.com  ksaathoff@ercot.com\n",
      "Body:\n",
      "\n",
      "This is an update on publication of QSE settlement invoices and statements as of today, October 23, 2001.  ERCOT has published a replacement invoice to add final settlement statements to the previously issued invoice with a due date of 10/29/01.  This invoice was previously published with initial settlement statements for trade days of 09/14/01 through 09/20/01.  The replacement invoice adds final settlement statements for trade days 08/03/01 through 08/09/01 to this invoice.  The replacement invoice was posted to the portal on 10/18/01.  \n",
      "ERCOT has also published a replacement invoice to add final settlement statements to the previously issued invoice with a due date of 11/05/01.  This invoice was previously published with initial settlement statements for trade days of  09/21/01 through 09/27/01 .  The replacement invoice adds final settlement statements for trade days 08/10/01 through 08/16/01 to this invoice. The replacement invoice was posted to the portal today.  \n",
      "Please update your records to replace the previously issued invoices and process any payments due ERCOT as per the replacement invoices.  ERCOT will process the any payments due to QSEs as per the replacement invoices.\n",
      "Final settlement statements through 08/16 are currently posted. \n",
      "Ted  Hailu \n",
      "Client Relations Manager \n",
      "Electric Reliability Council of Texas \n",
      "E-mail: Thailu@ercot.com \n",
      "Telephone: (512) 248-3873 \n",
      "____________________\n"
     ]
    }
   ],
   "source": [
    "# Query For a text match in the \"text\" or \"subject\" fields. Uses the multi-match query:\n",
    "# https://www.elastic.co/guide/en/elasticsearch/reference/current/query-dsl-multi-match-query.html\n",
    "doc = {\n",
    "  \"query\": {\n",
    "    \"multi_match\" : {\n",
    "      \"query\":    \"settlement\", \n",
    "      \"fields\": [ \"subject\", \"text\" ] \n",
    "    }\n",
    "  }\n",
    "}\n",
    "r=requests.get(host + 'enron/_search',\n",
    "               data=json.dumps(doc), headers={'Content-Type':'application/json'})\n",
    "r.raise_for_status()\n",
    "print(\"Found %s messages matching the query, of \" % r.json()['hits']['total'])\n",
    "df = elasticsearch_results_to_df(r)\n",
    "print(\"Returned %s messages\" % df.shape[0])\n",
    "print_df_row(df.iloc[9])"
   ]
  },
  {
   "cell_type": "code",
   "execution_count": null,
   "metadata": {
    "colab": {
     "base_uri": "https://localhost:8080/",
     "height": 700
    },
    "id": "K87Pbc9KGS3_",
    "outputId": "f11f884b-92df-4780-9081-98f730ba4e9d"
   },
   "outputs": [
    {
     "name": "stdout",
     "output_type": "stream",
     "text": [
      "Found 10000 messages matching the query, of \n",
      "Returned 10 messages\n",
      "____________________\n",
      "RE: Settlement Conversation Recap\n",
      "At: 2002-05-02 18:26:52+00:00\n",
      "From: michael.bridges@enron.com\n",
      "To: koikosp@talgov.com\n",
      "CC: chris.germany@enron.com\n",
      "BCC: chris.germany@enron.com\n",
      "Body:\n",
      "Hi Pete,\n",
      "\n",
      "Wanted to recap our conversation yesterday, update you on our timing and get you my contact information.\n",
      "\n",
      "Regarding a possible settlement, it appears to me that this is a concept that you have considered and are willing to pursue.  We will have a valuation of the contract for you Monday.  It is my suggestion that you review the proposal, make sure that you agree with the outstanding transactions and complete your own valuation.  Once we have agreed on the universe of transactions, you and I will discuss and finalize a settlement amount that we are comfortable will be approved by the creditor committee and bankruptcy judge.\n",
      "\n",
      "From this point, Enron will begin the process of filing a motion for settlement and schedule an appropriate hearing date for the judge to rule.  Please seek bankruptcy council to determine if it will be necessary for a representative from your company to attend and, as well, to be comfortable with the process.\n",
      "\n",
      "Finally, we will provide you a sample Release Letter for your review.  We will seek your comments, if any, prior to the hearing date.  After the settlement motion is filed, we would ask that there are no more document or value negotiations in order to expedite closure.\n",
      "\n",
      "All of that said, concurrently, in case you and I are not able to reach agreement on a settlement amount, we are going to take the first step in an auction process.  This means that I am going to send you a procedural Notice of an anticipated auction to sell your contract as we discussed yesterday.  It is our desire to settle this prior to an auction taking place.  The settlement process is our preferred route of resolution.  Please call me if you have any questions regarding this.\n",
      "\n",
      "Please, call me with any questions and let's work hard at keeping an open dialog so that we can resolve this to both of our mutual benefits.  I have included my contact information at the end of this email-- if you could return this email with your mailing address, I would appreciate it.  Also, I look forward to working with you through this process, and finally, thank you for your time and attention to this matter.\n",
      "\n",
      "Sincerely,\n",
      "\n",
      "Mike Bridges\n",
      "\n",
      "\n",
      "\n",
      "Mike Bridges\n",
      "phone:  713-345-4079\n",
      "fax:\t713-646-3037\n",
      "email:\tmichael.bridges@enron.com\n",
      "\n",
      "1400 Smith Street\n",
      "ECN 0602d\n",
      "Houston, TX 77002\n",
      "____________________\n"
     ]
    }
   ],
   "source": [
    "# \"OR\" query for two phrase matches. Generally you get fancy query parsing with this:\n",
    "# https://www.elastic.co/guide/en/elasticsearch/reference/current/query-dsl-query-string-query.html\n",
    "doc = {\n",
    "    \"query\": {\n",
    "        \"query_string\" : {\n",
    "            \"default_field\" : \"text\",\n",
    "            \"query\" : \"(reach a settlement) OR (continue to pursue)\" \n",
    "        }\n",
    "    }\n",
    "}\n",
    "r=requests.get(host + 'enron/_search',\n",
    "               data=json.dumps(doc), headers={'Content-Type':'application/json'})\n",
    "r.raise_for_status()\n",
    "print(\"Found %s messages matching the query\" % r.json()['hits']['total']['value'])\n",
    "df = elasticsearch_results_to_df(r)\n",
    "print(\"Returned %s messages\" % df.shape[0])\n",
    "print_df_row(df.iloc[0])"
   ]
  },
  {
   "cell_type": "code",
   "execution_count": null,
   "metadata": {
    "id": "x8IudAe6GS4D",
    "outputId": "0cbf74da-0271-441d-bedb-4ea242e0342c"
   },
   "outputs": [
    {
     "data": {
      "text/plain": [
       "date                                  2001-05-31 11:21:00+00:00\n",
       "recipients    lisa.mellencamp@enron.com  mary.heinitz@enron....\n",
       "sender                                      kate.cole@enron.com\n",
       "subject                     FW: Sale of East Coast Power L.L.C.\n",
       "text          Please note that an additional subsidiary was ...\n",
       "Name: 21281, dtype: object"
      ]
     },
     "execution_count": 71,
     "metadata": {
      "tags": []
     },
     "output_type": "execute_result"
    }
   ],
   "source": [
    "df.iloc[9]"
   ]
  },
  {
   "cell_type": "code",
   "execution_count": null,
   "metadata": {
    "colab": {
     "base_uri": "https://localhost:8080/",
     "height": 748
    },
    "id": "SYNs9pQNGS4F",
    "outputId": "a5e21e0e-53c8-4a57-a58d-6ac7b45569b7"
   },
   "outputs": [
    {
     "name": "stdout",
     "output_type": "stream",
     "text": [
      "                         date  doc_count\n",
      "228 1999-01-01 00:00:00+00:00          8\n",
      "229 1999-02-01 00:00:00+00:00          1\n",
      "230 1999-03-01 00:00:00+00:00          7\n",
      "231 1999-04-01 00:00:00+00:00          2\n",
      "232 1999-05-01 00:00:00+00:00         35\n",
      "233 1999-06-01 00:00:00+00:00         24\n",
      "234 1999-07-01 00:00:00+00:00         45\n",
      "235 1999-08-01 00:00:00+00:00         41\n",
      "236 1999-09-01 00:00:00+00:00         74\n",
      "237 1999-10-01 00:00:00+00:00         67\n",
      "238 1999-11-01 00:00:00+00:00         64\n",
      "239 1999-12-01 00:00:00+00:00        131\n",
      "240 2000-01-01 00:00:00+00:00        200\n",
      "241 2000-02-01 00:00:00+00:00        245\n",
      "242 2000-03-01 00:00:00+00:00        261\n",
      "243 2000-04-01 00:00:00+00:00        289\n",
      "244 2000-05-01 00:00:00+00:00        328\n",
      "245 2000-06-01 00:00:00+00:00        512\n",
      "246 2000-07-01 00:00:00+00:00        449\n",
      "247 2000-08-01 00:00:00+00:00        641\n",
      "248 2000-09-01 00:00:00+00:00        711\n",
      "249 2000-10-01 00:00:00+00:00        796\n",
      "250 2000-11-01 00:00:00+00:00       1089\n",
      "251 2000-12-01 00:00:00+00:00       1021\n",
      "252 2001-01-01 00:00:00+00:00        840\n",
      "253 2001-02-01 00:00:00+00:00        805\n",
      "254 2001-03-01 00:00:00+00:00       1081\n",
      "255 2001-04-01 00:00:00+00:00       1369\n",
      "256 2001-05-01 00:00:00+00:00       1714\n",
      "257 2001-06-01 00:00:00+00:00       1138\n",
      "258 2001-07-01 00:00:00+00:00        704\n",
      "259 2001-08-01 00:00:00+00:00        849\n",
      "260 2001-09-01 00:00:00+00:00        905\n",
      "261 2001-10-01 00:00:00+00:00       2790\n",
      "262 2001-11-01 00:00:00+00:00       2213\n",
      "263 2001-12-01 00:00:00+00:00        984\n",
      "264 2002-01-01 00:00:00+00:00       1603\n",
      "265 2002-02-01 00:00:00+00:00        637\n",
      "266 2002-03-01 00:00:00+00:00        310\n",
      "267 2002-04-01 00:00:00+00:00         96\n",
      "268 2002-05-01 00:00:00+00:00         66\n",
      "269 2002-06-01 00:00:00+00:00         84\n"
     ]
    }
   ],
   "source": [
    "# Do a count of all documents in the database by month\n",
    "doc = {\n",
    "    \"aggs\" : {\n",
    "        \"aggregation_var_name\" : {\n",
    "            \"date_histogram\" : {\n",
    "                \"field\" : \"date\",\n",
    "                \"interval\" : \"month\"\n",
    "            }\n",
    "        }\n",
    "    }\n",
    "}\n",
    "r=requests.get(host + 'enron/_search',\n",
    "               data=json.dumps(doc), headers={'Content-Type':'application/json'})\n",
    "r.raise_for_status()\n",
    "def aggregation_to_df(response,var_name='aggregation_var_name'):\n",
    "    r = response.json()\n",
    "    r['aggregations'][var_name]\n",
    "    df = pandas.DataFrame(r['aggregations'][var_name]['buckets'])\n",
    "    df['date'] = df['key_as_string'].apply(parser.parse)\n",
    "    df = df[(df['date'] >= '1999-01-1') & (df['date'] < '2002-07-01')]\n",
    "    df = df[['date','doc_count']]\n",
    "    return df\n",
    "df = aggregation_to_df(r)\n",
    "print(df)"
   ]
  },
  {
   "cell_type": "code",
   "execution_count": null,
   "metadata": {
    "colab": {
     "base_uri": "https://localhost:8080/",
     "height": 748
    },
    "id": "3T5IWPrAGS4J",
    "outputId": "bb51e59c-395c-4de5-e8b3-5d6037ad43eb"
   },
   "outputs": [
    {
     "name": "stdout",
     "output_type": "stream",
     "text": [
      "                         date  doc_count\n",
      "228 1999-01-01 00:00:00+00:00          2\n",
      "229 1999-02-01 00:00:00+00:00          0\n",
      "230 1999-03-01 00:00:00+00:00          0\n",
      "231 1999-04-01 00:00:00+00:00          0\n",
      "232 1999-05-01 00:00:00+00:00          4\n",
      "233 1999-06-01 00:00:00+00:00          0\n",
      "234 1999-07-01 00:00:00+00:00          3\n",
      "235 1999-08-01 00:00:00+00:00          1\n",
      "236 1999-09-01 00:00:00+00:00          2\n",
      "237 1999-10-01 00:00:00+00:00          0\n",
      "238 1999-11-01 00:00:00+00:00          5\n",
      "239 1999-12-01 00:00:00+00:00          6\n",
      "240 2000-01-01 00:00:00+00:00          6\n",
      "241 2000-02-01 00:00:00+00:00         14\n",
      "242 2000-03-01 00:00:00+00:00         16\n",
      "243 2000-04-01 00:00:00+00:00          4\n",
      "244 2000-05-01 00:00:00+00:00         14\n",
      "245 2000-06-01 00:00:00+00:00         19\n",
      "246 2000-07-01 00:00:00+00:00         21\n",
      "247 2000-08-01 00:00:00+00:00         35\n",
      "248 2000-09-01 00:00:00+00:00         31\n",
      "249 2000-10-01 00:00:00+00:00         39\n",
      "250 2000-11-01 00:00:00+00:00         52\n",
      "251 2000-12-01 00:00:00+00:00         46\n",
      "252 2001-01-01 00:00:00+00:00         30\n",
      "253 2001-02-01 00:00:00+00:00         26\n",
      "254 2001-03-01 00:00:00+00:00         52\n",
      "255 2001-04-01 00:00:00+00:00         53\n",
      "256 2001-05-01 00:00:00+00:00        112\n",
      "257 2001-06-01 00:00:00+00:00         68\n",
      "258 2001-07-01 00:00:00+00:00         52\n",
      "259 2001-08-01 00:00:00+00:00         42\n",
      "260 2001-09-01 00:00:00+00:00         65\n",
      "261 2001-10-01 00:00:00+00:00        174\n",
      "262 2001-11-01 00:00:00+00:00        141\n",
      "263 2001-12-01 00:00:00+00:00         48\n",
      "264 2002-01-01 00:00:00+00:00         82\n",
      "265 2002-02-01 00:00:00+00:00         28\n",
      "266 2002-03-01 00:00:00+00:00         10\n",
      "267 2002-04-01 00:00:00+00:00          1\n",
      "268 2002-05-01 00:00:00+00:00          1\n",
      "269 2002-06-01 00:00:00+00:00          6\n"
     ]
    }
   ],
   "source": [
    "# Do a count of all documents matching a query by month\n",
    "doc = {\n",
    "    \"query\": {\n",
    "        \"match\" : {\n",
    "            \"text\" : \"important reporting\"\n",
    "        }\n",
    "    },\n",
    "    \"aggs\" : {\n",
    "        \"aggregation_var_name\" : {\n",
    "            \"date_histogram\" : {\n",
    "                \"field\" : \"date\",\n",
    "                \"interval\" : \"month\"\n",
    "            }\n",
    "        }\n",
    "    }\n",
    "}\n",
    "r=requests.get(host + 'enron/_search',\n",
    "               data=json.dumps(doc), headers={'Content-Type':'application/json'})\n",
    "r.raise_for_status()\n",
    "df = aggregation_to_df(r)\n",
    "print(df)"
   ]
  },
  {
   "cell_type": "code",
   "execution_count": null,
   "metadata": {
    "colab": {
     "base_uri": "https://localhost:8080/",
     "height": 411
    },
    "id": "inNJYYxIGS4M",
    "outputId": "f71fd695-f7bc-42c5-b505-4b2535ad0e69"
   },
   "outputs": [
    {
     "name": "stdout",
     "output_type": "stream",
     "text": [
      "Found 3 messages matching the query, of \n",
      "Returned 3 messages\n",
      "____________________\n",
      "RE: Data Request\n",
      "At: 2001-03-23 22:13:53+00:00\n",
      "From: thomas.meers@enron.com\n",
      "To: stephen.schwarzbach@enron.com\n",
      "CC: tracy.geaccone@enron.com\n",
      "BCC: tracy.geaccone@enron.com\n",
      "Body:\n",
      "\n",
      "Steve,\n",
      "\n",
      "The attached files contain the headcount and G&A costs information you requested based on the 2001 Plan.  My apologies for not getting this to you sooner.  Please note that this information is representative of the three Clean Fuels companies but is based on my interpretation of what you wanted included within a particular line item.  Feel free to call me with any questions or comments you may have regarding this data.\n",
      "\n",
      "Thanks,\n",
      "\tTom Meers   X54899\n",
      "\n",
      "\n",
      "\n",
      "  \n",
      "____________________\n"
     ]
    }
   ],
   "source": [
    "# Search an exact match in a specific feild\n",
    "doc = {\n",
    "    \"query\": {\n",
    "        \"match\" : {\n",
    "            \"recipients\" : \"stephen.schwarzbach@enron.com\"\n",
    "        } \n",
    "    },\n",
    "}\n",
    "r=requests.get(host + 'enron/_search',\n",
    "               data=json.dumps(doc), headers={'Content-Type':'application/json'})\n",
    "r.raise_for_status()\n",
    "print(\"Found %s messages matching the query, of \" % r.json()['hits']['total']['value'])\n",
    "df = elasticsearch_results_to_df(r)\n",
    "print(\"Returned %s messages\" % df.shape[0])\n",
    "print_df_row(df.iloc[0])"
   ]
  },
  {
   "cell_type": "code",
   "execution_count": null,
   "metadata": {
    "id": "FySeID6rGS4O"
   },
   "outputs": [],
   "source": []
  }
 ],
 "metadata": {
  "colab": {
   "collapsed_sections": [],
   "name": "Enron Query Elasticsearch.ipynb",
   "provenance": []
  },
  "kernelspec": {
   "display_name": "Python 3",
   "language": "python",
   "name": "python3"
  },
  "language_info": {
   "codemirror_mode": {
    "name": "ipython",
    "version": 3
   },
   "file_extension": ".py",
   "mimetype": "text/x-python",
   "name": "python",
   "nbconvert_exporter": "python",
   "pygments_lexer": "ipython3",
   "version": "3.8.5"
  }
 },
 "nbformat": 4,
 "nbformat_minor": 1
}
