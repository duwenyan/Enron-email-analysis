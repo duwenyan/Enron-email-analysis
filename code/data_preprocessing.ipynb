{
 "cells": [
  {
   "cell_type": "code",
   "execution_count": 148,
   "metadata": {
    "id": "FySeID6rGS4O"
   },
   "outputs": [],
   "source": [
    "folder = \"/Users/hliu467/Downloads/dataset\""
   ]
  },
  {
   "cell_type": "code",
   "execution_count": 149,
   "metadata": {},
   "outputs": [],
   "source": [
    "from os import listdir\n",
    "files = listdir(folder)"
   ]
  },
  {
   "cell_type": "code",
   "execution_count": 150,
   "metadata": {},
   "outputs": [
    {
     "data": {
      "text/plain": [
       "'5c7b50433b3e53a8af2acce8bb6b1284.json'"
      ]
     },
     "execution_count": 150,
     "metadata": {},
     "output_type": "execute_result"
    }
   ],
   "source": [
    "files[0]"
   ]
  },
  {
   "cell_type": "code",
   "execution_count": 151,
   "metadata": {},
   "outputs": [],
   "source": [
    "import pandas as pd"
   ]
  },
  {
   "cell_type": "code",
   "execution_count": 152,
   "metadata": {},
   "outputs": [],
   "source": [
    "raw_result = []"
   ]
  },
  {
   "cell_type": "code",
   "execution_count": 153,
   "metadata": {},
   "outputs": [],
   "source": [
    "for loc in range(len(files)):\n",
    "    file = folder + \"/\" + files[loc]\n",
    "    with open(file, \"r\") as f:\n",
    "        raw_result.append(f.read())"
   ]
  },
  {
   "cell_type": "code",
   "execution_count": 154,
   "metadata": {},
   "outputs": [],
   "source": [
    "import json\n",
    "result = list(map(lambda x: json.loads(x), raw_result))"
   ]
  },
  {
   "cell_type": "code",
   "execution_count": 155,
   "metadata": {},
   "outputs": [],
   "source": [
    "df = pd.DataFrame(result)"
   ]
  },
  {
   "cell_type": "code",
   "execution_count": 156,
   "metadata": {},
   "outputs": [
    {
     "data": {
      "text/html": [
       "<div>\n",
       "<style scoped>\n",
       "    .dataframe tbody tr th:only-of-type {\n",
       "        vertical-align: middle;\n",
       "    }\n",
       "\n",
       "    .dataframe tbody tr th {\n",
       "        vertical-align: top;\n",
       "    }\n",
       "\n",
       "    .dataframe thead th {\n",
       "        text-align: right;\n",
       "    }\n",
       "</style>\n",
       "<table border=\"1\" class=\"dataframe\">\n",
       "  <thead>\n",
       "    <tr style=\"text-align: right;\">\n",
       "      <th></th>\n",
       "      <th>text</th>\n",
       "      <th>headers</th>\n",
       "      <th>subject</th>\n",
       "      <th>messageId</th>\n",
       "      <th>priority</th>\n",
       "      <th>from</th>\n",
       "      <th>to</th>\n",
       "      <th>date</th>\n",
       "      <th>cc</th>\n",
       "      <th>bcc</th>\n",
       "    </tr>\n",
       "  </thead>\n",
       "  <tbody>\n",
       "    <tr>\n",
       "      <th>0</th>\n",
       "      <td>---------------------- Forwarded by Rika Imai/...</td>\n",
       "      <td>{'message-id': '&lt;88180.1075863689140.JavaMail....</td>\n",
       "      <td>4 Month Rolling Forecast</td>\n",
       "      <td>88180.1075863689140.JavaMail.evans@thyme</td>\n",
       "      <td>normal</td>\n",
       "      <td>[{'address': 'rika.imai@enron.com', 'name': ''}]</td>\n",
       "      <td>[{'address': 'john.forney@enron.com', 'name': ...</td>\n",
       "      <td>2001-05-08T15:37:00.000Z</td>\n",
       "      <td>NaN</td>\n",
       "      <td>NaN</td>\n",
       "    </tr>\n",
       "    <tr>\n",
       "      <th>1</th>\n",
       "      <td>great</td>\n",
       "      <td>{'message-id': '&lt;4460514.1075857469666.JavaMai...</td>\n",
       "      <td>Re: Jim Simpson</td>\n",
       "      <td>4460514.1075857469666.JavaMail.evans@thyme</td>\n",
       "      <td>normal</td>\n",
       "      <td>[{'address': 'hunter.shively@enron.com', 'name...</td>\n",
       "      <td>[{'address': 'richard.tomaski@enron.com', 'nam...</td>\n",
       "      <td>2000-06-21T09:01:00.000Z</td>\n",
       "      <td>NaN</td>\n",
       "      <td>NaN</td>\n",
       "    </tr>\n",
       "    <tr>\n",
       "      <th>2</th>\n",
       "      <td>oohh la la.  who was your \"friend\"?  did you g...</td>\n",
       "      <td>{'message-id': '&lt;2160301.1075858147494.JavaMai...</td>\n",
       "      <td>Re: Re[2]:</td>\n",
       "      <td>2160301.1075858147494.JavaMail.evans@thyme</td>\n",
       "      <td>normal</td>\n",
       "      <td>[{'address': 'matthew.lenhart@enron.com', 'nam...</td>\n",
       "      <td>[{'address': 'shelliott@dttus.com', 'name': ''}]</td>\n",
       "      <td>2000-08-16T10:03:00.000Z</td>\n",
       "      <td>NaN</td>\n",
       "      <td>NaN</td>\n",
       "    </tr>\n",
       "    <tr>\n",
       "      <th>3</th>\n",
       "      <td>\\nAttached are the two files with this week's ...</td>\n",
       "      <td>{'message-id': '&lt;22847680.1075863611080.JavaMa...</td>\n",
       "      <td>FW: Nuclear Rolling Forecast</td>\n",
       "      <td>22847680.1075863611080.JavaMail.evans@thyme</td>\n",
       "      <td>normal</td>\n",
       "      <td>[{'address': 'rika.imai@enron.com', 'name': ''}]</td>\n",
       "      <td>[{'address': 'russell.ballato@enron.com', 'nam...</td>\n",
       "      <td>2001-08-15T12:46:47.000Z</td>\n",
       "      <td>NaN</td>\n",
       "      <td>NaN</td>\n",
       "    </tr>\n",
       "    <tr>\n",
       "      <th>4</th>\n",
       "      <td>lm:\\nWhat are your thoughts going forward........</td>\n",
       "      <td>{'message-id': '&lt;15012282.1075852957298.JavaMa...</td>\n",
       "      <td>hello</td>\n",
       "      <td>15012282.1075852957298.JavaMail.evans@thyme</td>\n",
       "      <td>normal</td>\n",
       "      <td>[{'address': 'jennifer.fraser@enron.com', 'nam...</td>\n",
       "      <td>[{'address': 'larry.may@enron.com', 'name': ''}]</td>\n",
       "      <td>2001-10-03T07:35:05.000Z</td>\n",
       "      <td>NaN</td>\n",
       "      <td>NaN</td>\n",
       "    </tr>\n",
       "  </tbody>\n",
       "</table>\n",
       "</div>"
      ],
      "text/plain": [
       "                                                text  \\\n",
       "0  ---------------------- Forwarded by Rika Imai/...   \n",
       "1                                              great   \n",
       "2  oohh la la.  who was your \"friend\"?  did you g...   \n",
       "3  \\nAttached are the two files with this week's ...   \n",
       "4  lm:\\nWhat are your thoughts going forward........   \n",
       "\n",
       "                                             headers  \\\n",
       "0  {'message-id': '<88180.1075863689140.JavaMail....   \n",
       "1  {'message-id': '<4460514.1075857469666.JavaMai...   \n",
       "2  {'message-id': '<2160301.1075858147494.JavaMai...   \n",
       "3  {'message-id': '<22847680.1075863611080.JavaMa...   \n",
       "4  {'message-id': '<15012282.1075852957298.JavaMa...   \n",
       "\n",
       "                        subject                                    messageId  \\\n",
       "0      4 Month Rolling Forecast     88180.1075863689140.JavaMail.evans@thyme   \n",
       "1               Re: Jim Simpson   4460514.1075857469666.JavaMail.evans@thyme   \n",
       "2                    Re: Re[2]:   2160301.1075858147494.JavaMail.evans@thyme   \n",
       "3  FW: Nuclear Rolling Forecast  22847680.1075863611080.JavaMail.evans@thyme   \n",
       "4                         hello  15012282.1075852957298.JavaMail.evans@thyme   \n",
       "\n",
       "  priority                                               from  \\\n",
       "0   normal   [{'address': 'rika.imai@enron.com', 'name': ''}]   \n",
       "1   normal  [{'address': 'hunter.shively@enron.com', 'name...   \n",
       "2   normal  [{'address': 'matthew.lenhart@enron.com', 'nam...   \n",
       "3   normal   [{'address': 'rika.imai@enron.com', 'name': ''}]   \n",
       "4   normal  [{'address': 'jennifer.fraser@enron.com', 'nam...   \n",
       "\n",
       "                                                  to  \\\n",
       "0  [{'address': 'john.forney@enron.com', 'name': ...   \n",
       "1  [{'address': 'richard.tomaski@enron.com', 'nam...   \n",
       "2   [{'address': 'shelliott@dttus.com', 'name': ''}]   \n",
       "3  [{'address': 'russell.ballato@enron.com', 'nam...   \n",
       "4   [{'address': 'larry.may@enron.com', 'name': ''}]   \n",
       "\n",
       "                       date   cc  bcc  \n",
       "0  2001-05-08T15:37:00.000Z  NaN  NaN  \n",
       "1  2000-06-21T09:01:00.000Z  NaN  NaN  \n",
       "2  2000-08-16T10:03:00.000Z  NaN  NaN  \n",
       "3  2001-08-15T12:46:47.000Z  NaN  NaN  \n",
       "4  2001-10-03T07:35:05.000Z  NaN  NaN  "
      ]
     },
     "execution_count": 156,
     "metadata": {},
     "output_type": "execute_result"
    }
   ],
   "source": [
    "df.head()"
   ]
  },
  {
   "cell_type": "code",
   "execution_count": 89,
   "metadata": {},
   "outputs": [],
   "source": [
    "df.to_csv(\"enron_full_dataset.csv\")"
   ]
  },
  {
   "cell_type": "code",
   "execution_count": 157,
   "metadata": {},
   "outputs": [],
   "source": [
    "new_df = df.copy()"
   ]
  },
  {
   "cell_type": "code",
   "execution_count": 158,
   "metadata": {},
   "outputs": [],
   "source": [
    "new_df['from'] = new_df['from'].apply(lambda x: \" \".join([i[\"address\"] for i in x]))"
   ]
  },
  {
   "cell_type": "code",
   "execution_count": 159,
   "metadata": {},
   "outputs": [
    {
     "data": {
      "text/html": [
       "<div>\n",
       "<style scoped>\n",
       "    .dataframe tbody tr th:only-of-type {\n",
       "        vertical-align: middle;\n",
       "    }\n",
       "\n",
       "    .dataframe tbody tr th {\n",
       "        vertical-align: top;\n",
       "    }\n",
       "\n",
       "    .dataframe thead th {\n",
       "        text-align: right;\n",
       "    }\n",
       "</style>\n",
       "<table border=\"1\" class=\"dataframe\">\n",
       "  <thead>\n",
       "    <tr style=\"text-align: right;\">\n",
       "      <th></th>\n",
       "      <th>text</th>\n",
       "      <th>headers</th>\n",
       "      <th>subject</th>\n",
       "      <th>messageId</th>\n",
       "      <th>priority</th>\n",
       "      <th>from</th>\n",
       "      <th>to</th>\n",
       "      <th>date</th>\n",
       "      <th>cc</th>\n",
       "      <th>bcc</th>\n",
       "    </tr>\n",
       "  </thead>\n",
       "  <tbody>\n",
       "    <tr>\n",
       "      <th>0</th>\n",
       "      <td>---------------------- Forwarded by Rika Imai/...</td>\n",
       "      <td>{'message-id': '&lt;88180.1075863689140.JavaMail....</td>\n",
       "      <td>4 Month Rolling Forecast</td>\n",
       "      <td>88180.1075863689140.JavaMail.evans@thyme</td>\n",
       "      <td>normal</td>\n",
       "      <td>rika.imai@enron.com</td>\n",
       "      <td>[{'address': 'john.forney@enron.com', 'name': ...</td>\n",
       "      <td>2001-05-08T15:37:00.000Z</td>\n",
       "      <td>NaN</td>\n",
       "      <td>NaN</td>\n",
       "    </tr>\n",
       "    <tr>\n",
       "      <th>1</th>\n",
       "      <td>great</td>\n",
       "      <td>{'message-id': '&lt;4460514.1075857469666.JavaMai...</td>\n",
       "      <td>Re: Jim Simpson</td>\n",
       "      <td>4460514.1075857469666.JavaMail.evans@thyme</td>\n",
       "      <td>normal</td>\n",
       "      <td>hunter.shively@enron.com</td>\n",
       "      <td>[{'address': 'richard.tomaski@enron.com', 'nam...</td>\n",
       "      <td>2000-06-21T09:01:00.000Z</td>\n",
       "      <td>NaN</td>\n",
       "      <td>NaN</td>\n",
       "    </tr>\n",
       "    <tr>\n",
       "      <th>2</th>\n",
       "      <td>oohh la la.  who was your \"friend\"?  did you g...</td>\n",
       "      <td>{'message-id': '&lt;2160301.1075858147494.JavaMai...</td>\n",
       "      <td>Re: Re[2]:</td>\n",
       "      <td>2160301.1075858147494.JavaMail.evans@thyme</td>\n",
       "      <td>normal</td>\n",
       "      <td>matthew.lenhart@enron.com</td>\n",
       "      <td>[{'address': 'shelliott@dttus.com', 'name': ''}]</td>\n",
       "      <td>2000-08-16T10:03:00.000Z</td>\n",
       "      <td>NaN</td>\n",
       "      <td>NaN</td>\n",
       "    </tr>\n",
       "    <tr>\n",
       "      <th>3</th>\n",
       "      <td>\\nAttached are the two files with this week's ...</td>\n",
       "      <td>{'message-id': '&lt;22847680.1075863611080.JavaMa...</td>\n",
       "      <td>FW: Nuclear Rolling Forecast</td>\n",
       "      <td>22847680.1075863611080.JavaMail.evans@thyme</td>\n",
       "      <td>normal</td>\n",
       "      <td>rika.imai@enron.com</td>\n",
       "      <td>[{'address': 'russell.ballato@enron.com', 'nam...</td>\n",
       "      <td>2001-08-15T12:46:47.000Z</td>\n",
       "      <td>NaN</td>\n",
       "      <td>NaN</td>\n",
       "    </tr>\n",
       "    <tr>\n",
       "      <th>4</th>\n",
       "      <td>lm:\\nWhat are your thoughts going forward........</td>\n",
       "      <td>{'message-id': '&lt;15012282.1075852957298.JavaMa...</td>\n",
       "      <td>hello</td>\n",
       "      <td>15012282.1075852957298.JavaMail.evans@thyme</td>\n",
       "      <td>normal</td>\n",
       "      <td>jennifer.fraser@enron.com</td>\n",
       "      <td>[{'address': 'larry.may@enron.com', 'name': ''}]</td>\n",
       "      <td>2001-10-03T07:35:05.000Z</td>\n",
       "      <td>NaN</td>\n",
       "      <td>NaN</td>\n",
       "    </tr>\n",
       "  </tbody>\n",
       "</table>\n",
       "</div>"
      ],
      "text/plain": [
       "                                                text  \\\n",
       "0  ---------------------- Forwarded by Rika Imai/...   \n",
       "1                                              great   \n",
       "2  oohh la la.  who was your \"friend\"?  did you g...   \n",
       "3  \\nAttached are the two files with this week's ...   \n",
       "4  lm:\\nWhat are your thoughts going forward........   \n",
       "\n",
       "                                             headers  \\\n",
       "0  {'message-id': '<88180.1075863689140.JavaMail....   \n",
       "1  {'message-id': '<4460514.1075857469666.JavaMai...   \n",
       "2  {'message-id': '<2160301.1075858147494.JavaMai...   \n",
       "3  {'message-id': '<22847680.1075863611080.JavaMa...   \n",
       "4  {'message-id': '<15012282.1075852957298.JavaMa...   \n",
       "\n",
       "                        subject                                    messageId  \\\n",
       "0      4 Month Rolling Forecast     88180.1075863689140.JavaMail.evans@thyme   \n",
       "1               Re: Jim Simpson   4460514.1075857469666.JavaMail.evans@thyme   \n",
       "2                    Re: Re[2]:   2160301.1075858147494.JavaMail.evans@thyme   \n",
       "3  FW: Nuclear Rolling Forecast  22847680.1075863611080.JavaMail.evans@thyme   \n",
       "4                         hello  15012282.1075852957298.JavaMail.evans@thyme   \n",
       "\n",
       "  priority                       from  \\\n",
       "0   normal        rika.imai@enron.com   \n",
       "1   normal   hunter.shively@enron.com   \n",
       "2   normal  matthew.lenhart@enron.com   \n",
       "3   normal        rika.imai@enron.com   \n",
       "4   normal  jennifer.fraser@enron.com   \n",
       "\n",
       "                                                  to  \\\n",
       "0  [{'address': 'john.forney@enron.com', 'name': ...   \n",
       "1  [{'address': 'richard.tomaski@enron.com', 'nam...   \n",
       "2   [{'address': 'shelliott@dttus.com', 'name': ''}]   \n",
       "3  [{'address': 'russell.ballato@enron.com', 'nam...   \n",
       "4   [{'address': 'larry.may@enron.com', 'name': ''}]   \n",
       "\n",
       "                       date   cc  bcc  \n",
       "0  2001-05-08T15:37:00.000Z  NaN  NaN  \n",
       "1  2000-06-21T09:01:00.000Z  NaN  NaN  \n",
       "2  2000-08-16T10:03:00.000Z  NaN  NaN  \n",
       "3  2001-08-15T12:46:47.000Z  NaN  NaN  \n",
       "4  2001-10-03T07:35:05.000Z  NaN  NaN  "
      ]
     },
     "execution_count": 159,
     "metadata": {},
     "output_type": "execute_result"
    }
   ],
   "source": [
    "new_df.head()"
   ]
  },
  {
   "cell_type": "code",
   "execution_count": 160,
   "metadata": {},
   "outputs": [],
   "source": [
    "def process_address_list(x):\n",
    "    if isinstance(x, float):\n",
    "        return \"\"\n",
    "    else:\n",
    "        return \" \".join([i[\"address\"] for i in x])"
   ]
  },
  {
   "cell_type": "code",
   "execution_count": 161,
   "metadata": {},
   "outputs": [],
   "source": [
    "new_df['to'] = new_df['to'].apply(lambda x: process_address_list(x))"
   ]
  },
  {
   "cell_type": "code",
   "execution_count": 162,
   "metadata": {},
   "outputs": [],
   "source": [
    "new_df['cc'] = new_df['cc'].apply(lambda x: process_address_list(x))"
   ]
  },
  {
   "cell_type": "code",
   "execution_count": 163,
   "metadata": {},
   "outputs": [],
   "source": [
    "new_df['bcc'] = new_df['bcc'].apply(lambda x: process_address_list(x))"
   ]
  },
  {
   "cell_type": "code",
   "execution_count": 164,
   "metadata": {},
   "outputs": [
    {
     "data": {
      "text/html": [
       "<div>\n",
       "<style scoped>\n",
       "    .dataframe tbody tr th:only-of-type {\n",
       "        vertical-align: middle;\n",
       "    }\n",
       "\n",
       "    .dataframe tbody tr th {\n",
       "        vertical-align: top;\n",
       "    }\n",
       "\n",
       "    .dataframe thead th {\n",
       "        text-align: right;\n",
       "    }\n",
       "</style>\n",
       "<table border=\"1\" class=\"dataframe\">\n",
       "  <thead>\n",
       "    <tr style=\"text-align: right;\">\n",
       "      <th></th>\n",
       "      <th>text</th>\n",
       "      <th>headers</th>\n",
       "      <th>subject</th>\n",
       "      <th>messageId</th>\n",
       "      <th>priority</th>\n",
       "      <th>from</th>\n",
       "      <th>to</th>\n",
       "      <th>date</th>\n",
       "      <th>cc</th>\n",
       "      <th>bcc</th>\n",
       "    </tr>\n",
       "  </thead>\n",
       "  <tbody>\n",
       "    <tr>\n",
       "      <th>0</th>\n",
       "      <td>---------------------- Forwarded by Rika Imai/...</td>\n",
       "      <td>{'message-id': '&lt;88180.1075863689140.JavaMail....</td>\n",
       "      <td>4 Month Rolling Forecast</td>\n",
       "      <td>88180.1075863689140.JavaMail.evans@thyme</td>\n",
       "      <td>normal</td>\n",
       "      <td>rika.imai@enron.com</td>\n",
       "      <td>john.forney@enron.com mike.carson@enron.com cl...</td>\n",
       "      <td>2001-05-08T15:37:00.000Z</td>\n",
       "      <td></td>\n",
       "      <td></td>\n",
       "    </tr>\n",
       "    <tr>\n",
       "      <th>1</th>\n",
       "      <td>great</td>\n",
       "      <td>{'message-id': '&lt;4460514.1075857469666.JavaMai...</td>\n",
       "      <td>Re: Jim Simpson</td>\n",
       "      <td>4460514.1075857469666.JavaMail.evans@thyme</td>\n",
       "      <td>normal</td>\n",
       "      <td>hunter.shively@enron.com</td>\n",
       "      <td>richard.tomaski@enron.com</td>\n",
       "      <td>2000-06-21T09:01:00.000Z</td>\n",
       "      <td></td>\n",
       "      <td></td>\n",
       "    </tr>\n",
       "    <tr>\n",
       "      <th>2</th>\n",
       "      <td>oohh la la.  who was your \"friend\"?  did you g...</td>\n",
       "      <td>{'message-id': '&lt;2160301.1075858147494.JavaMai...</td>\n",
       "      <td>Re: Re[2]:</td>\n",
       "      <td>2160301.1075858147494.JavaMail.evans@thyme</td>\n",
       "      <td>normal</td>\n",
       "      <td>matthew.lenhart@enron.com</td>\n",
       "      <td>shelliott@dttus.com</td>\n",
       "      <td>2000-08-16T10:03:00.000Z</td>\n",
       "      <td></td>\n",
       "      <td></td>\n",
       "    </tr>\n",
       "    <tr>\n",
       "      <th>3</th>\n",
       "      <td>\\nAttached are the two files with this week's ...</td>\n",
       "      <td>{'message-id': '&lt;22847680.1075863611080.JavaMa...</td>\n",
       "      <td>FW: Nuclear Rolling Forecast</td>\n",
       "      <td>22847680.1075863611080.JavaMail.evans@thyme</td>\n",
       "      <td>normal</td>\n",
       "      <td>rika.imai@enron.com</td>\n",
       "      <td>russell.ballato@enron.com hicham.benjelloun@en...</td>\n",
       "      <td>2001-08-15T12:46:47.000Z</td>\n",
       "      <td></td>\n",
       "      <td></td>\n",
       "    </tr>\n",
       "    <tr>\n",
       "      <th>4</th>\n",
       "      <td>lm:\\nWhat are your thoughts going forward........</td>\n",
       "      <td>{'message-id': '&lt;15012282.1075852957298.JavaMa...</td>\n",
       "      <td>hello</td>\n",
       "      <td>15012282.1075852957298.JavaMail.evans@thyme</td>\n",
       "      <td>normal</td>\n",
       "      <td>jennifer.fraser@enron.com</td>\n",
       "      <td>larry.may@enron.com</td>\n",
       "      <td>2001-10-03T07:35:05.000Z</td>\n",
       "      <td></td>\n",
       "      <td></td>\n",
       "    </tr>\n",
       "  </tbody>\n",
       "</table>\n",
       "</div>"
      ],
      "text/plain": [
       "                                                text  \\\n",
       "0  ---------------------- Forwarded by Rika Imai/...   \n",
       "1                                              great   \n",
       "2  oohh la la.  who was your \"friend\"?  did you g...   \n",
       "3  \\nAttached are the two files with this week's ...   \n",
       "4  lm:\\nWhat are your thoughts going forward........   \n",
       "\n",
       "                                             headers  \\\n",
       "0  {'message-id': '<88180.1075863689140.JavaMail....   \n",
       "1  {'message-id': '<4460514.1075857469666.JavaMai...   \n",
       "2  {'message-id': '<2160301.1075858147494.JavaMai...   \n",
       "3  {'message-id': '<22847680.1075863611080.JavaMa...   \n",
       "4  {'message-id': '<15012282.1075852957298.JavaMa...   \n",
       "\n",
       "                        subject                                    messageId  \\\n",
       "0      4 Month Rolling Forecast     88180.1075863689140.JavaMail.evans@thyme   \n",
       "1               Re: Jim Simpson   4460514.1075857469666.JavaMail.evans@thyme   \n",
       "2                    Re: Re[2]:   2160301.1075858147494.JavaMail.evans@thyme   \n",
       "3  FW: Nuclear Rolling Forecast  22847680.1075863611080.JavaMail.evans@thyme   \n",
       "4                         hello  15012282.1075852957298.JavaMail.evans@thyme   \n",
       "\n",
       "  priority                       from  \\\n",
       "0   normal        rika.imai@enron.com   \n",
       "1   normal   hunter.shively@enron.com   \n",
       "2   normal  matthew.lenhart@enron.com   \n",
       "3   normal        rika.imai@enron.com   \n",
       "4   normal  jennifer.fraser@enron.com   \n",
       "\n",
       "                                                  to  \\\n",
       "0  john.forney@enron.com mike.carson@enron.com cl...   \n",
       "1                          richard.tomaski@enron.com   \n",
       "2                                shelliott@dttus.com   \n",
       "3  russell.ballato@enron.com hicham.benjelloun@en...   \n",
       "4                                larry.may@enron.com   \n",
       "\n",
       "                       date cc bcc  \n",
       "0  2001-05-08T15:37:00.000Z         \n",
       "1  2000-06-21T09:01:00.000Z         \n",
       "2  2000-08-16T10:03:00.000Z         \n",
       "3  2001-08-15T12:46:47.000Z         \n",
       "4  2001-10-03T07:35:05.000Z         "
      ]
     },
     "execution_count": 164,
     "metadata": {},
     "output_type": "execute_result"
    }
   ],
   "source": [
    "new_df.head()"
   ]
  },
  {
   "cell_type": "code",
   "execution_count": 165,
   "metadata": {},
   "outputs": [],
   "source": [
    "new_df.to_csv(\"enron_cleaned.csv\")"
   ]
  },
  {
   "cell_type": "code",
   "execution_count": 1,
   "metadata": {},
   "outputs": [],
   "source": [
    "import pandas as pd"
   ]
  },
  {
   "cell_type": "code",
   "execution_count": 2,
   "metadata": {},
   "outputs": [],
   "source": [
    "data = pd.read_csv('enron_cleaned.csv', index_col=0) "
   ]
  },
  {
   "cell_type": "code",
   "execution_count": 3,
   "metadata": {},
   "outputs": [
    {
     "data": {
      "text/plain": [
       "(251734, 10)"
      ]
     },
     "execution_count": 3,
     "metadata": {},
     "output_type": "execute_result"
    }
   ],
   "source": [
    "data.shape"
   ]
  },
  {
   "cell_type": "code",
   "execution_count": null,
   "metadata": {},
   "outputs": [],
   "source": []
  }
 ],
 "metadata": {
  "colab": {
   "collapsed_sections": [],
   "name": "Enron Query Elasticsearch.ipynb",
   "provenance": []
  },
  "kernelspec": {
   "display_name": "Python 3",
   "language": "python",
   "name": "python3"
  },
  "language_info": {
   "codemirror_mode": {
    "name": "ipython",
    "version": 3
   },
   "file_extension": ".py",
   "mimetype": "text/x-python",
   "name": "python",
   "nbconvert_exporter": "python",
   "pygments_lexer": "ipython3",
   "version": "3.8.5"
  }
 },
 "nbformat": 4,
 "nbformat_minor": 1
}
